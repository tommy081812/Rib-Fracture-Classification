{
 "cells": [
  {
   "cell_type": "code",
   "execution_count": 3,
   "metadata": {},
   "outputs": [],
   "source": [
    "import os\n",
    "import cv2\n",
    "from read_roi import read_roi_zip, read_roi_file\n",
    "import zipfile\n",
    "import numpy as np"
   ]
  },
  {
   "cell_type": "code",
   "execution_count": 4,
   "metadata": {},
   "outputs": [
    {
     "name": "stdout",
     "output_type": "stream",
     "text": [
      "['100_0003.png', '102_0003.png', '108_0003.png', '109_0003.png', '113_0003.png', '115_0003.png', '119_0003.png', '121_0003.png', '122_0003.png', '129_0001.png', '131_0003.png', '133_0003.png', '135_0003.png', '140_0003.png', '149_0003.png', '14_0003.png', '150_0003.png', '154_0003.png', '155_0003.png', '167_0003.png', '171_0003.png', '172_0003.png', '174_0003.png', '175_0003.png', '176_0003.png', '186_0003.png', '192_0003.png', '195_0003.png', '196_0003.png', '198_0003.png', '202_0003.png', '204_0003.png', '207_0003.png', '20_0003.png', '211_0003.png', '214_0003.png', '218_0003.png', '223_0002.png', '225_0003.png', '226_0003.png', '229_0003.png', '230_0003.png', '231_0002.png', '236_0003.png', '238_0003.png', '242_0003.png', '244_0003.png', '247_0003.png', '249_0003.png', '250_0003.png', '252_0003.png', '253_0003.png', '257_0003.png', '259_0003.png', '25_0002.png', '267_0003.png', '269_0002.png', '270_0003.png', '271_0003.png', '274_0003.png', '278_0003.png', '279_0002.png', '280_0001.png', '284_0003.png', '288_0003.png', '289_0002.png', '290_0003.png', '302_0003.png', '303_0003.png', '306_0003.png', '308_0003.png', '314_0003.png', '317_0003.png', '31_0003.png', '321_0003.png', '324_0003.png', '326_0003.png', '327_0001.png', '328_0003.png', '329_0003.png', '332_0003.png', '333_0003.png', '335_0003.png', '338_0003.png', '341_0003.png', '362_0003.png', '364_0003.png', '369_0003.png', '36_0003.png', '370_0003.png', '378_0003.png', '37_0003.png', '380_0003.png', '383_0002.png', '391_0003.png', '393_0003.png', '399_0002.png', '3_0002.png', '400_0003.png', '407_0003.png', '408_0003.png', '409_0003.png', '413_0003.png', '414_0003.png', '417_0003.png', '422_0003.png', '42_0003.png', '435_0003.png', '444_0003.png', '54_0002.png', '55_0003.png', '60_0002.png', '61_0003.png', '65_0003.png', '66_0003.png', '71_0003.png', '73_0003.png', '74_0003.png', '78_0003.png', '7_0003.png', '85_0003.png', '86_0001.png', '8_0001.png', '90_0003.png', '91_0002.png', '92_0003.png', '96_0002.png', '98_0002.png']\n",
      "['100_0003.roi.zip', '102_0003.roi.zip', '108_0003.roi', '109_0003.roi.zip', '113_0003.roi.zip', '115_0003.roi', '119_0003.zip', '121_0003.zip', '122_0003.zip', '129_0001.roi.zip', '131_0003.roi.zip', '133_0003.roi.zip', '135_0003.roi', '140_0003.zip', '149_0003.roi.zip', '14_0003.zip', '150_0003.roi', '154_0003.roi', '155_0003.roi', '167_0003.roi.zip', '171_0003.roi', '172_0003.roi.zip', '174_0003.roi', '175_0003.roi.zip', '176_0003.zip', '186_0003.roi', '192_0003.zip', '195_0003.roi.zip', '196_0003.roi.zip', '198_0003.roi.zip', '202_0003.zip', '204_0003.roi.zip', '207_0003.roi.zip', '20_0003.roi.zip', '211_0003.zip', '214_0003.zip', '218_0003.roi', '223_0002.roi', '225_0003.roi.zip', '226_0003.roi.zip', '229_0003.roi.zip', '230_0003.zip', '231_0002.zip', '236_0003.roi.zip', '238_0003.roi', '242_0003.roi', '244_0003.roi.zip', '247_0003.roi.zip', '249_0003.roi', '250_0003.roi.zip', '252_0003.zip', '253_0003.roi', '257_0003.roi', '259_0003.roi', '25_0002.roi.zip', '267_0003.roi.zip', '269_0002.zip', '270_0003.roi', '271_0003.roi', '274_0003.zip', '278_0003.roi.zip', '279_0002.roi.zip', '280_0001.zip', '284_0003.zip', '288_0003.roi.zip', '289_0002.roi', '290_0003.roi', '302_0003.roi', '303_0003.zip', '306_0003.roi.zip', '308_0003.roi', '314_0003.roi.zip', '317_0003.roi.zip', '31_0003.roi.zip', '321_0003.roi', '324_0003.roi', '326_0003.roi.zip', '327_0001.roi', '328_0003.roi', '329_0003.zip', '332_0003.roi', '333_0003.roi.zip', '335_0003.roi.zip', '338_0003.roi', '341_0003.roi.zip', '362_0003.zip', '364_0003.roi', '369_0003.roi', '36_0003.roi', '370_0003.roi', '378_0003.roi.zip', '37_0003.roi.zip', '380_0003.roi.zip', '383_0002.roi', '391_0003.roi.zip', '393_0003.zip', '399_0002.roi', '3_0002.roi', '400_0003.roi', '407_0003.zip', '408_0003.roi.zip', '409_0003.roi', '413_0003.roi.zip', '414_0003.roi', '417_0003.roi.zip', '422_0003.roi', '42_0003.zip', '435_0003.roi.zip', '444_0003.roi', '54_0002.roi', '55_0003.roi', '60_0002.roi.zip', '61_0003.zip', '65_0003.roi.zip', '66_0003.zip', '71_0003.roi.zip', '73_0003.roi.zip', '74_0003.zip', '78_0003.roi.zip', '7_0003.roi.zip', '85_0003.roi.zip', '86_0001.zip', '8_0001.zip', '90_0003.zip', '91_0002.roi', '92_0003.roi.zip', '96_0002.roi', '98_0002.roi']\n"
     ]
    }
   ],
   "source": [
    "png_path = 'C:/Users/Administrator/Desktop/deep/data/fracture_png/'\n",
    "roi_path = 'C:/Users/Administrator/Desktop/deep/data/fracture/'\n",
    "mask_path = 'C:/Users/Administrator/Desktop/deep/data/fracture_mask_1/'\n",
    "png_list = []\n",
    "zip_list = []\n",
    "png_file_name = (os.listdir(png_path)) #png file name \n",
    "roi_file_name = ([file for file in (os.listdir(roi_path)) if file.endswith(\".zip\") or file.endswith(\".roi\")])#roi file name\n",
    "png_file_name.sort()\n",
    "roi_file_name.sort()\n",
    "print(png_file_name)\n",
    "print(roi_file_name)"
   ]
  },
  {
   "cell_type": "markdown",
   "metadata": {},
   "source": [
    "Writes Mask FIle for Given PNG File"
   ]
  },
  {
   "cell_type": "code",
   "execution_count": 5,
   "metadata": {},
   "outputs": [],
   "source": [
    "def makesBlank(png_file,roi_file, count):\n",
    "    img_cv = cv2.imread(png_path + png_file)\n",
    "    size = img_cv.shape # size of a given png file\n",
    "\n",
    "    for roi_name in roi_sorted[count]:\n",
    "        blank = np.zeros((size[0], size[1]))\n",
    "        for i in range(len(blank)):\n",
    "            for k in range(len(blank[0])):\n",
    "                blank[i][k] = 0\n",
    "        roi_name = roi_name[:-4]\n",
    "        if roi_file[roi_name]['type'] == 'rectangle':\n",
    "            left_top = roi_file[roi_name]['left'], roi_file[roi_name]['top'] # roi 점 구함\n",
    "            width_height = roi_file[roi_name]['width'], roi_file[roi_name]['height']\n",
    "            for i in range(left_top[1], left_top[1] + width_height[1]):\n",
    "                for k in range(left_top[0],left_top[0] + width_height[0]):\n",
    "                    blank[i][k] = 255\n",
    "        \n",
    "        cv2.imwrite(mask_path + png_file[:-4] + '_' + roi_name + '_blank.png', blank)"
   ]
  },
  {
   "cell_type": "markdown",
   "metadata": {},
   "source": [
    "MAIN"
   ]
  },
  {
   "cell_type": "code",
   "execution_count": 6,
   "metadata": {
    "scrolled": true
   },
   "outputs": [
    {
     "name": "stdout",
     "output_type": "stream",
     "text": [
      "100_0003.roi.zip\n",
      "102_0003.roi.zip\n",
      "108_0003.roi\n",
      "109_0003.roi.zip\n",
      "113_0003.roi.zip\n",
      "115_0003.roi\n",
      "119_0003.zip\n",
      "121_0003.zip\n",
      "122_0003.zip\n",
      "129_0001.roi.zip\n",
      "131_0003.roi.zip\n",
      "133_0003.roi.zip\n",
      "135_0003.roi\n",
      "140_0003.zip\n",
      "149_0003.roi.zip\n",
      "14_0003.zip\n",
      "150_0003.roi\n",
      "154_0003.roi\n",
      "155_0003.roi\n",
      "167_0003.roi.zip\n",
      "171_0003.roi\n",
      "172_0003.roi.zip\n",
      "174_0003.roi\n",
      "175_0003.roi.zip\n",
      "176_0003.zip\n",
      "186_0003.roi\n",
      "192_0003.zip\n",
      "195_0003.roi.zip\n",
      "196_0003.roi.zip\n",
      "198_0003.roi.zip\n",
      "202_0003.zip\n",
      "204_0003.roi.zip\n",
      "207_0003.roi.zip\n",
      "20_0003.roi.zip\n",
      "211_0003.zip\n",
      "214_0003.zip\n",
      "218_0003.roi\n",
      "223_0002.roi\n",
      "225_0003.roi.zip\n",
      "226_0003.roi.zip\n",
      "229_0003.roi.zip\n",
      "230_0003.zip\n",
      "231_0002.zip\n",
      "236_0003.roi.zip\n"
     ]
    },
    {
     "ename": "KeyboardInterrupt",
     "evalue": "",
     "output_type": "error",
     "traceback": [
      "\u001b[1;31m---------------------------------------------------------------------------\u001b[0m",
      "\u001b[1;31mKeyboardInterrupt\u001b[0m                         Traceback (most recent call last)",
      "\u001b[1;32m<ipython-input-6-237422980b38>\u001b[0m in \u001b[0;36m<module>\u001b[1;34m\u001b[0m\n\u001b[0;32m     14\u001b[0m     \u001b[0mprint\u001b[0m\u001b[1;33m(\u001b[0m\u001b[0mroi_file_name\u001b[0m\u001b[1;33m[\u001b[0m\u001b[0mi\u001b[0m\u001b[1;33m]\u001b[0m\u001b[1;33m)\u001b[0m\u001b[1;33m\u001b[0m\u001b[0m\n\u001b[0;32m     15\u001b[0m     \u001b[1;31m#for roi_name in roi_sorted[k]:\u001b[0m\u001b[1;33m\u001b[0m\u001b[1;33m\u001b[0m\u001b[0m\n\u001b[1;32m---> 16\u001b[1;33m     \u001b[0mmakesBlank\u001b[0m\u001b[1;33m(\u001b[0m\u001b[0mpng_file_name\u001b[0m\u001b[1;33m[\u001b[0m\u001b[0mi\u001b[0m\u001b[1;33m]\u001b[0m\u001b[1;33m,\u001b[0m \u001b[0mroi_file\u001b[0m\u001b[1;33m,\u001b[0m \u001b[0mi\u001b[0m\u001b[1;33m)\u001b[0m\u001b[1;33m\u001b[0m\u001b[0m\n\u001b[0m",
      "\u001b[1;32m<ipython-input-5-ecf0e70a7516>\u001b[0m in \u001b[0;36mmakesBlank\u001b[1;34m(png_file, roi_file, count)\u001b[0m\n\u001b[0;32m      7\u001b[0m         \u001b[1;32mfor\u001b[0m \u001b[0mi\u001b[0m \u001b[1;32min\u001b[0m \u001b[0mrange\u001b[0m\u001b[1;33m(\u001b[0m\u001b[0mlen\u001b[0m\u001b[1;33m(\u001b[0m\u001b[0mblank\u001b[0m\u001b[1;33m)\u001b[0m\u001b[1;33m)\u001b[0m\u001b[1;33m:\u001b[0m\u001b[1;33m\u001b[0m\u001b[0m\n\u001b[0;32m      8\u001b[0m             \u001b[1;32mfor\u001b[0m \u001b[0mk\u001b[0m \u001b[1;32min\u001b[0m \u001b[0mrange\u001b[0m\u001b[1;33m(\u001b[0m\u001b[0mlen\u001b[0m\u001b[1;33m(\u001b[0m\u001b[0mblank\u001b[0m\u001b[1;33m[\u001b[0m\u001b[1;36m0\u001b[0m\u001b[1;33m]\u001b[0m\u001b[1;33m)\u001b[0m\u001b[1;33m)\u001b[0m\u001b[1;33m:\u001b[0m\u001b[1;33m\u001b[0m\u001b[0m\n\u001b[1;32m----> 9\u001b[1;33m                 \u001b[0mblank\u001b[0m\u001b[1;33m[\u001b[0m\u001b[0mi\u001b[0m\u001b[1;33m]\u001b[0m\u001b[1;33m[\u001b[0m\u001b[0mk\u001b[0m\u001b[1;33m]\u001b[0m \u001b[1;33m=\u001b[0m \u001b[1;36m0\u001b[0m\u001b[1;33m\u001b[0m\u001b[0m\n\u001b[0m\u001b[0;32m     10\u001b[0m         \u001b[0mroi_name\u001b[0m \u001b[1;33m=\u001b[0m \u001b[0mroi_name\u001b[0m\u001b[1;33m[\u001b[0m\u001b[1;33m:\u001b[0m\u001b[1;33m-\u001b[0m\u001b[1;36m4\u001b[0m\u001b[1;33m]\u001b[0m\u001b[1;33m\u001b[0m\u001b[0m\n\u001b[0;32m     11\u001b[0m         \u001b[1;32mif\u001b[0m \u001b[0mroi_file\u001b[0m\u001b[1;33m[\u001b[0m\u001b[0mroi_name\u001b[0m\u001b[1;33m]\u001b[0m\u001b[1;33m[\u001b[0m\u001b[1;34m'type'\u001b[0m\u001b[1;33m]\u001b[0m \u001b[1;33m==\u001b[0m \u001b[1;34m'rectangle'\u001b[0m\u001b[1;33m:\u001b[0m\u001b[1;33m\u001b[0m\u001b[0m\n",
      "\u001b[1;31mKeyboardInterrupt\u001b[0m: "
     ]
    }
   ],
   "source": [
    "roi_sorted = []\n",
    "for i in range(len(roi_file_name)):\n",
    "    if (roi_file_name[i].endswith('.zip')):\n",
    "        zip_file = zipfile.ZipFile(roi_path + roi_file_name[i])\n",
    "        zip_name_list = zip_file.namelist() #zip file 안의 roi를 list로 작성\n",
    "        zip_name_list.sort()\n",
    "        roi_sorted.append(zip_name_list)\n",
    "    else:\n",
    "        roi_name_list = [roi_file_name[i]]\n",
    "        roi_sorted.append(roi_name_list)\n",
    "for i in range(len(png_file_name)):\n",
    "    if (roi_file_name[i].endswith('.zip')): roi_file = read_roi_zip(roi_path + roi_file_name[i])\n",
    "    else : roi_file = read_roi_file(roi_path + roi_file_name[i])\n",
    "    print(roi_file_name[i])\n",
    "    #for roi_name in roi_sorted[k]:\n",
    "    makesBlank(png_file_name[i], roi_file, i)\n"
   ]
  },
  {
   "cell_type": "code",
   "execution_count": 80,
   "metadata": {},
   "outputs": [
    {
     "ename": "NameError",
     "evalue": "name 'count' is not defined",
     "output_type": "error",
     "traceback": [
      "\u001b[1;31m---------------------------------------------------------------------------\u001b[0m",
      "\u001b[1;31mNameError\u001b[0m                                 Traceback (most recent call last)",
      "\u001b[1;32m<ipython-input-80-26780ddf2751>\u001b[0m in \u001b[0;36m<module>\u001b[1;34m\u001b[0m\n\u001b[1;32m----> 1\u001b[1;33m \u001b[0mcount\u001b[0m\u001b[1;33m\u001b[0m\u001b[0m\n\u001b[0m",
      "\u001b[1;31mNameError\u001b[0m: name 'count' is not defined"
     ]
    }
   ],
   "source": [
    "extractor = featureextractor.RadiomicsFeatureExtractor()\n",
    "result_1 = extractor.execute(image, label)\n",
    "indexF = [] # value값 이름\n",
    "columnF = [1] # 표본 이름\n",
    "valueF  = [] # value값들\n",
    "for key, value in six.iteritems(result_1):\n",
    "    print('\\t', key, ':', value)\n",
    "    indexF.append(key)\n",
    "    valueF.append(value)\n",
    "values = pd.DataFrame(index=indexF, columns = columnF)\n",
    "for i in range(values.shape[0]):\n",
    "    try: values.iloc[i] = valueF[i]\n",
    "    except: values.iloc[i] = str(valueF[i])\n",
    "values.to_excel('./test.xlsx',\n",
    "                sheet_name='Sheet1',\n",
    "                columns=columnF,\n",
    "                header=True,\n",
    "                index=indexF,\n",
    "                startrow=1,\n",
    "                startcol=0,\n",
    "                engine=None,\n",
    "                merge_cells=True,\n",
    "                encoding=None,\n",
    "                inf_rep='inf',\n",
    "                verbose=True,\n",
    "                freeze_panes=None)"
   ]
  },
  {
   "cell_type": "code",
   "execution_count": null,
   "metadata": {},
   "outputs": [],
   "source": []
  }
 ],
 "metadata": {
  "kernelspec": {
   "display_name": "Python 3",
   "language": "python",
   "name": "python3"
  },
  "language_info": {
   "codemirror_mode": {
    "name": "ipython",
    "version": 3
   },
   "file_extension": ".py",
   "mimetype": "text/x-python",
   "name": "python",
   "nbconvert_exporter": "python",
   "pygments_lexer": "ipython3",
   "version": "3.6.2"
  }
 },
 "nbformat": 4,
 "nbformat_minor": 4
}
