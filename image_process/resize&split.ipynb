{
 "cells": [
  {
   "cell_type": "code",
   "execution_count": 4,
   "metadata": {},
   "outputs": [
    {
     "ename": "ModuleNotFoundError",
     "evalue": "No module named 'cv2'",
     "output_type": "error",
     "traceback": [
      "\u001b[1;31m---------------------------------------------------------------------------\u001b[0m",
      "\u001b[1;31mModuleNotFoundError\u001b[0m                       Traceback (most recent call last)",
      "\u001b[1;32m<ipython-input-4-9f7d3f6913d5>\u001b[0m in \u001b[0;36m<module>\u001b[1;34m\u001b[0m\n\u001b[1;32m----> 1\u001b[1;33m \u001b[1;32mimport\u001b[0m \u001b[0mcv2\u001b[0m\u001b[1;33m\u001b[0m\u001b[1;33m\u001b[0m\u001b[0m\n\u001b[0m\u001b[0;32m      2\u001b[0m \u001b[1;32mimport\u001b[0m \u001b[0mos\u001b[0m\u001b[1;33m\u001b[0m\u001b[1;33m\u001b[0m\u001b[0m\n\u001b[0;32m      3\u001b[0m \u001b[1;33m\u001b[0m\u001b[0m\n\u001b[0;32m      4\u001b[0m \u001b[0moriginalPath\u001b[0m \u001b[1;33m=\u001b[0m \u001b[1;34m\"C:/Users/Administrator/Desktop/deep/surgericalInstrument/data/frameeprsecond/zxc\"\u001b[0m\u001b[1;33m\u001b[0m\u001b[1;33m\u001b[0m\u001b[0m\n\u001b[0;32m      5\u001b[0m \u001b[0msavePath\u001b[0m \u001b[1;33m=\u001b[0m \u001b[1;34m\"C:/Users/Administrator/Desktop/deep/surgericalInstrument/data/frameeprsecond/asda\"\u001b[0m\u001b[1;33m\u001b[0m\u001b[1;33m\u001b[0m\u001b[0m\n",
      "\u001b[1;31mModuleNotFoundError\u001b[0m: No module named 'cv2'"
     ]
    }
   ],
   "source": [
    "import cv2\n",
    "import os \n",
    "\n",
    "originalPath = \"C:/Users/Administrator/Desktop/deep/surgericalInstrument/data/frameeprsecond/zxc\"\n",
    "savePath = \"C:/Users/Administrator/Desktop/deep/surgericalInstrument/data/frameeprsecond/asda\"\n",
    "\n",
    "imageFile = os.listdir(originalPath) # 환자 폴더\n",
    "\n",
    "for i in imageFile:\n",
    "    src = cv2.imread(originalPath + \"/\" + i , cv2.IMREAD_COLOR)\n",
    "    dst = image_resize(src, height = 288)\n",
    "    a = cv2.copyMakeBorder(dst, 112, 112, 0, 0, cv2.BORDER_CONSTANT)\n",
    "    cv2.imwrite(savePath + \"/\" + i, a)"
   ]
  },
  {
   "cell_type": "code",
   "execution_count": null,
   "metadata": {},
   "outputs": [],
   "source": [
    "def image_resize(image, width = None, height = None, inter = cv2.INTER_AREA):\n",
    "    # initialize the dimensions of the image to be resized and\n",
    "    # grab the image size\n",
    "    dim = None\n",
    "    (h, w) = image.shape[:2]\n",
    "\n",
    "    # if both the width and height are None, then return the\n",
    "    # original image\n",
    "    if width is None and height is None:\n",
    "        return image\n",
    "\n",
    "    # check to see if the width is None\n",
    "    if width is None:\n",
    "        # calculate the ratio of the height and construct the\n",
    "        # dimensions\n",
    "        r = height / float(h)\n",
    "        dim = (int(w * r), height)\n",
    "\n",
    "    # otherwise, the height is None\n",
    "    else:\n",
    "        # calculate the ratio of the width and construct the\n",
    "        # dimensions\n",
    "        r = width / float(w)\n",
    "        dim = (width, int(h * r))\n",
    "\n",
    "    # resize the image\n",
    "    resized = cv2.resize(image, dim, interpolation = inter)\n",
    "\n",
    "    # return the resized image\n",
    "    return resized"
   ]
  },
  {
   "cell_type": "code",
   "execution_count": null,
   "metadata": {},
   "outputs": [],
   "source": [
    "import shutil\n",
    "import openpyxl\n",
    "\n",
    "zeroPath = \"C:/Users/Administrator/Desktop/deep/surgericalInstrument/data/frameeprsecond/zero\"\n",
    "onePath = \"C:/Users/Administrator/Desktop/deep/surgericalInstrument/data/frameeprsecond/one\"\n",
    "\n",
    "wb = openpyxl.load_workbook(\"C:/Users/Administrator/Desktop/deep/4.xlsx\")\n",
    "ws = wb[\"Sheet1\"]\n",
    "isWorking = ws.cell(row=2, column=2).value\n",
    "num = 2\n",
    "for i in imageFile:\n",
    "    if (isWorking == 0):\n",
    "        shutil.move(savePath + \"/\" + i, zeroPath)\n",
    "    else:\n",
    "        shutil.move(savePath + \"/\" + i, onePath)\n",
    "    num += 1\n",
    "    isWorking = ws.cell(row=num, column=2).value"
   ]
  },
  {
   "cell_type": "code",
   "execution_count": null,
   "metadata": {},
   "outputs": [],
   "source": [
    "imageFile"
   ]
  },
  {
   "cell_type": "code",
   "execution_count": null,
   "metadata": {},
   "outputs": [],
   "source": [
    "import shutil\n",
    "import os\n",
    "import random\n",
    "\n",
    "nOpe = \"./surgericalInstrument/data/frameeprsecond/zero/\"\n",
    "Ope = \"./surgericalInstrument/data/frameeprsecond/one/\"\n",
    "\n",
    "test0Path = \"./surgericalInstrument/data/frameeprsecond/split/test0/\"\n",
    "test1Path = \"./surgericalInstrument/data/frameeprsecond/split/test1/\"\n",
    "train0Path = \"./surgericalInstrument/data/frameeprsecond/split/train0/\"\n",
    "train1Path = \"./surgericalInstrument/data/frameeprsecond/split/train1/\"\n",
    "valid0Path = \"./surgericalInstrument/data/frameeprsecond/split/valid0\"\n",
    "valid1Path = \"./surgericalInstrument/data/frameeprsecond/split/valid1\"\n",
    "\n",
    "nOpeFile = os.listdir(nOpe)\n",
    "OpeFile = os.listdir(Ope)\n",
    "\n",
    "random.shuffle(nOpeFile)\n",
    "random.shuffle(OpeFile)\n",
    "\n",
    "\n",
    "for i in range(len(nOpeFile)):\n",
    "    if (i < len(nOpeFile) / 3 * 2 ):\n",
    "        shutil.move(nOpe + nOpeFile[i], train0Path)\n",
    "    elif (i < len(nOpeFile) / 6 + len(nOpeFile) / 3 * 2 ):\n",
    "        shutil.move(nOpe + nOpeFile[i], test0Path)\n",
    "    else:\n",
    "        shutil.move(nOpe + nOpeFile[i], valid0Path)\n",
    "\n",
    "for i in range(len(OpeFile)):\n",
    "    if (i < len(OpeFile) / 3 * 2 ):\n",
    "        shutil.move(Ope + OpeFile[i], train1Path)\n",
    "    elif (i < len(OpeFile) / 6 + len(OpeFile) / 3 * 2 ):\n",
    "        shutil.move(Ope + OpeFile[i], test1Path)\n",
    "    else:\n",
    "        shutil.move(Ope + OpeFile[i], valid1Path)\n",
    "        "
   ]
  },
  {
   "cell_type": "code",
   "execution_count": null,
   "metadata": {},
   "outputs": [],
   "source": [
    "nOpe"
   ]
  },
  {
   "cell_type": "code",
   "execution_count": null,
   "metadata": {},
   "outputs": [],
   "source": [
    "import os"
   ]
  },
  {
   "cell_type": "code",
   "execution_count": 2,
   "metadata": {},
   "outputs": [
    {
     "data": {
      "text/plain": [
       "<function dir>"
      ]
     },
     "execution_count": 2,
     "metadata": {},
     "output_type": "execute_result"
    }
   ],
   "source": []
  },
  {
   "cell_type": "code",
   "execution_count": null,
   "metadata": {},
   "outputs": [],
   "source": []
  }
 ],
 "metadata": {
  "kernelspec": {
   "display_name": "Python 3",
   "language": "python",
   "name": "python3"
  },
  "language_info": {
   "codemirror_mode": {
    "name": "ipython",
    "version": 3
   },
   "file_extension": ".py",
   "mimetype": "text/x-python",
   "name": "python",
   "nbconvert_exporter": "python",
   "pygments_lexer": "ipython3",
   "version": "3.8.3"
  }
 },
 "nbformat": 4,
 "nbformat_minor": 4
}
